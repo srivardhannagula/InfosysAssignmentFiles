{
 "cells": [
  {
   "cell_type": "code",
   "execution_count": null,
   "id": "28dba632-841f-4a5d-816f-bf42712dae79",
   "metadata": {},
   "outputs": [],
   "source": [
    "import spacy\n",
    "from spacy.matcher import Matcher"
   ]
  },
  {
   "cell_type": "code",
   "execution_count": null,
   "id": "bf612b46-ecd5-46af-9168-67624815ff7e",
   "metadata": {},
   "outputs": [],
   "source": [
    "!pip install spacy\n",
    "!python -m spacy download en_core_web_sm\n"
   ]
  },
  {
   "cell_type": "code",
   "execution_count": null,
   "id": "592c9d0d-542e-4623-9ea7-be09aa48d658",
   "metadata": {},
   "outputs": [],
   "source": [
    "nlp = spacy.load(\"en_core_web_sm\")"
   ]
  },
  {
   "cell_type": "code",
   "execution_count": null,
   "id": "a7b636cc-b95d-4adc-b98b-765e96618dc5",
   "metadata": {},
   "outputs": [],
   "source": [
    "url_pattern = [\n",
    "    {\"LIKE_URL\": True}  \n",
    "]\n",
    "\n",
    " \n",
    "matcher = Matcher(nlp.vocab)\n",
    "matcher.add(\"URL_PATTERN\", [url_pattern])"
   ]
  },
  {
   "cell_type": "code",
   "execution_count": null,
   "id": "53e760be-222a-4ca0-9aa5-e5825ebc86ef",
   "metadata": {},
   "outputs": [],
   "source": [
    "text='''\n",
    "Look for data to help you address the question. Governments are good\n",
    "sources because data from public research is often freely available. Good\n",
    "places to start include http://www.data.gov/, and http://www.science.\n",
    "gov/, and in the United Kingdom, http://data.gov.uk/.\n",
    "Two of my favorite data sets are the General Social Survey at http://www3.norc.org/gss+website/, \n",
    "and the European Social Survey at http://www.europeansocialsurvey.org/.\n",
    "'''\n",
    "\n"
   ]
  },
  {
   "cell_type": "code",
   "execution_count": null,
   "id": "19476c5d-f23d-4497-869d-74cf60148f95",
   "metadata": {},
   "outputs": [],
   "source": [
    "doc = nlp(text)\n",
    " \n",
    "matches = matcher(doc)\n",
    "\n",
    " \n",
    "for match_id, start, end in matches:\n",
    "    span = doc[start:end]  \n",
    "    print(span.text)"
   ]
  },
  {
   "cell_type": "code",
   "execution_count": null,
   "id": "c0208a40-07a8-4ee7-bd91-efbca091df78",
   "metadata": {},
   "outputs": [],
   "source": []
  },
  {
   "cell_type": "code",
   "execution_count": null,
   "id": "aef21aef-a2a0-418b-8194-26656c240919",
   "metadata": {},
   "outputs": [],
   "source": []
  }
 ],
 "metadata": {
  "kernelspec": {
   "display_name": "Python 3 (ipykernel)",
   "language": "python",
   "name": "python3"
  },
  "language_info": {
   "codemirror_mode": {
    "name": "ipython",
    "version": 3
   },
   "file_extension": ".py",
   "mimetype": "text/x-python",
   "name": "python",
   "nbconvert_exporter": "python",
   "pygments_lexer": "ipython3",
   "version": "3.13.1"
  }
 },
 "nbformat": 4,
 "nbformat_minor": 5
}
